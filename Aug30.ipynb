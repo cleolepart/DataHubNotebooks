{
 "cells": [
  {
   "cell_type": "code",
   "execution_count": null,
   "id": "46c1ad27",
   "metadata": {},
   "outputs": [],
   "source": [
    "#Ignore, not for use with Python\n",
    "\"\"\"\n",
    "Aug 30: A Simple Mathematica Primer\n",
    "\n",
    "Mathematica is a powerful tool for symbolic manipulation, numerical analysis, and graphic visualization.\n",
    "\n",
    "There will be many opportunities to use Mathematica in this course. Some homework problems will require it, or at least something like it.\n",
    "\n",
    "These slides are a very basic introduction to some of its functions. The documentation is very good, though, and you will learn a lot quickly.\n",
    "\n",
    "Let's get started.\n",
    "\n",
    "Initialization\n",
    "\n",
    "This is my habit, to clear everything away before starting something new.\n",
    "\n",
    "Remove[\"Global`*\"]\n",
    "\"\"\""
   ]
  },
  {
   "cell_type": "code",
   "execution_count": 1,
   "id": "f55b2bcb",
   "metadata": {},
   "outputs": [
    {
     "name": "stdout",
     "output_type": "stream",
     "text": [
      "(x - y)*(x + y)\n",
      "x**2*y**2\n",
      "x**2*y**2 + x - y\n",
      "(x - y)*(x + y)\n"
     ]
    }
   ],
   "source": [
    "#Algebra\n",
    "\n",
    "from sympy import symbols, factor\n",
    "\n",
    "x, y = symbols('x y')\n",
    "\n",
    "# Factor[x^2 - y^2]\n",
    "expression1 = x**2 - y**2\n",
    "factored_expression1 = factor(expression1)\n",
    "print(factored_expression1)\n",
    "\n",
    "# Factor[x^2*y^2]\n",
    "expression2 = x**2 * y**2\n",
    "factored_expression2 = factor(expression2)\n",
    "print(factored_expression2)\n",
    "\n",
    "# Factor[x^2*y^2 + x - y]\n",
    "expression3 = x**2 * y**2 + x - y\n",
    "factored_expression3 = factor(expression3)\n",
    "print(factored_expression3)\n",
    "\n",
    "# Factor[(x^n - y^n) /. n -> 2]\n",
    "expression4 = (x**2 - y**2).subs('n', 2)\n",
    "factored_expression4 = factor(expression4)\n",
    "print(factored_expression4)\n"
   ]
  },
  {
   "cell_type": "code",
   "execution_count": 3,
   "id": "fd540fb0",
   "metadata": {},
   "outputs": [
    {
     "name": "stdout",
     "output_type": "stream",
     "text": [
      "[(-b + sqrt(-4*a*c + b**2))/(2*a), -(b + sqrt(-4*a*c + b**2))/(2*a)]\n",
      "[-I*a, I*a]\n",
      "{x: (A*d - B*b)/(a*d - b*c), y: (-A*c + B*a)/(a*d - b*c)}\n"
     ]
    }
   ],
   "source": [
    "#Algebraic Equations\n",
    "\n",
    "from sympy import symbols, Eq, solve\n",
    "\n",
    "a, b, c, d, x, y, A, B = symbols('a b c d x y A B')\n",
    "\n",
    "# Solve[a*x^2 + b*x + c == 0, x]\n",
    "equation1 = Eq(a*x**2 + b*x + c, 0)\n",
    "solutions1 = solve(equation1, x)\n",
    "print(solutions1)\n",
    "\n",
    "# Solve[x^2 + a^2 == 0, x]\n",
    "equation2 = Eq(x**2 + a**2, 0)\n",
    "solutions2 = solve(equation2, x)\n",
    "print(solutions2)\n",
    "\n",
    "# Solve[{a*x + b*y == A, c*x + d*y == B}, {x, y}]\n",
    "equations = [Eq(a*x + b*y, A), Eq(c*x + d*y, B)]\n",
    "solutions3 = solve(equations, (x, y))\n",
    "print(solutions3)\n"
   ]
  },
  {
   "cell_type": "code",
   "execution_count": 4,
   "id": "2a745410",
   "metadata": {},
   "outputs": [
    {
     "data": {
      "image/png": "[encoded data removed]",
      "text/plain": [
       "<Figure size 640x480 with 1 Axes>"
      ]
     },
     "metadata": {},
     "output_type": "display_data"
    }
   ],
   "source": [
    "#Plots\n",
    "\n",
    "import numpy as np\n",
    "import matplotlib.pyplot as plt\n",
    "\n",
    "a = 2.5\n",
    "\n",
    "x = np.linspace(-a, a, 100)\n",
    "y = x**3\n",
    "\n",
    "plt.plot(x, y)\n",
    "plt.xlabel('x')\n",
    "plt.ylabel('y')\n",
    "plt.title('Plot of x^3')\n",
    "plt.grid(True)\n",
    "plt.show()\n"
   ]
  },
  {
   "cell_type": "code",
   "execution_count": 6,
   "id": "60db22fb",
   "metadata": {},
   "outputs": [
    {
     "name": "stdout",
     "output_type": "stream",
     "text": [
      "Differentiation:\n",
      "3*x**2\n",
      "-2*sin(2*x)\n",
      "\n",
      "Integration:\n",
      "sin(2*x)/2\n",
      "0\n"
     ]
    }
   ],
   "source": [
    "#Calculus\n",
    "\n",
    "import sympy as sp\n",
    "\n",
    "x, a, b, n = sp.symbols('x a b n')\n",
    "\n",
    "# Differentiation\n",
    "diff_1 = sp.diff(x**n, x)\n",
    "diff_2 = sp.diff(sp.cos(a*x), x)\n",
    "\n",
    "# Integration\n",
    "integrate_1 = sp.integrate(sp.cos(b*x), x)\n",
    "integrate_2 = sp.integrate(sp.cos(b*x), (x, 0, sp.pi/b))\n",
    "\n",
    "# Evaluation\n",
    "diff_1_result = diff_1.subs(n, 3)\n",
    "diff_2_result = diff_2.subs(a, 2)\n",
    "integrate_1_result = integrate_1.subs(b, 2)\n",
    "integrate_2_result = integrate_2.subs(b, 2)\n",
    "\n",
    "print(\"Differentiation:\")\n",
    "print(diff_1_result)\n",
    "print(diff_2_result)\n",
    "\n",
    "print(\"\\nIntegration:\")\n",
    "print(integrate_1_result)\n",
    "print(integrate_2_result)\n"
   ]
  },
  {
   "cell_type": "code",
   "execution_count": 7,
   "id": "d5409bb8",
   "metadata": {},
   "outputs": [
    {
     "name": "stdout",
     "output_type": "stream",
     "text": [
      "Solution 1:\n",
      "Eq(y(x), C1*exp(-I*k*x) + C2*exp(I*k*x))\n",
      "\n",
      "Solution 2:\n",
      "Eq(y(x), A*exp(I*k*x)/2 + A*exp(-I*k*x)/2)\n"
     ]
    }
   ],
   "source": [
    "#Differential equations\n",
    "import sympy as sp\n",
    "\n",
    "x, k = sp.symbols('x k')\n",
    "y = sp.Function('y')(x)  # Define the unknown function\n",
    "\n",
    "# ODE without initial conditions\n",
    "ode1 = sp.Eq(y.diff(x, x) + k**2 * y, 0)\n",
    "solution1 = sp.dsolve(ode1, y)\n",
    "print(\"Solution 1:\")\n",
    "print(solution1)\n",
    "\n",
    "# ODE with initial conditions\n",
    "A = sp.Symbol('A')  # Arbitrary constant\n",
    "ode2 = sp.Eq(y.diff(x, x) + k**2 * y, 0)\n",
    "initial_conditions = {y.subs(x, 0): A, y.diff(x).subs(x, 0): 0}\n",
    "solution2 = sp.dsolve(ode2, y, ics=initial_conditions)\n",
    "print(\"\\nSolution 2:\")\n",
    "print(solution2)\n"
   ]
  },
  {
   "cell_type": "code",
   "execution_count": 8,
   "id": "6d63f65d",
   "metadata": {},
   "outputs": [
    {
     "name": "stdout",
     "output_type": "stream",
     "text": [
      "Integral 1:\n",
      "Integral(Piecewise((-I/sqrt(b*x**2 - 1), x**2*Abs(b) > 1), (1/sqrt(-b*x**2 + 1), True)), (x, 0, 1))\n",
      "\n",
      "Integral 2:\n",
      "Integral(1/(sqrt((x - 1)*(b*x**2 - 1))*sqrt(x + 1)), (x, 0, 1))\n",
      "\n",
      "Integral 3:\n",
      "1.85407467730137\n"
     ]
    }
   ],
   "source": [
    "#Numerical integration\n",
    "\n",
    "import sympy as sp\n",
    "\n",
    "x, b = sp.symbols('x b')\n",
    "\n",
    "# Defining the integrals\n",
    "integral1 = sp.integrate(1/sp.sqrt(1 - b*x**2), (x, 0, 1))\n",
    "integral2 = sp.integrate(1/sp.sqrt((1 - b*x**2)*(1 - x**2)), (x, 0, 1))\n",
    "integral3 = sp.integrate(1/sp.sqrt((1 - b*x**2)*(1 - x**2)).subs(b, 0.5), (x, 0, 1))\n",
    "\n",
    "# Evaluating the integrals\n",
    "result1 = integral1.evalf()\n",
    "result2 = integral2.evalf()\n",
    "result3 = integral3.evalf()\n",
    "\n",
    "print(\"Integral 1:\")\n",
    "print(result1)\n",
    "print(\"\\nIntegral 2:\")\n",
    "print(result2)\n",
    "print(\"\\nIntegral 3:\")\n",
    "print(result3)\n"
   ]
  },
  {
   "cell_type": "code",
   "execution_count": null,
   "id": "2486b3bd",
   "metadata": {},
   "outputs": [],
   "source": []
  }
 ],
 "metadata": {
  "kernelspec": {
   "display_name": "Python 3 (ipykernel)",
   "language": "python",
   "name": "python3"
  },
  "language_info": {
   "codemirror_mode": {
    "name": "ipython",
    "version": 3
   },
   "file_extension": ".py",
   "mimetype": "text/x-python",
   "name": "python",
   "nbconvert_exporter": "python",
   "pygments_lexer": "ipython3",
   "version": "3.9.15"
  }
 },
 "nbformat": 4,
 "nbformat_minor": 5
}
